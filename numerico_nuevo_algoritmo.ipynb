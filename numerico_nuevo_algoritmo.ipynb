{
  "cells": [
    {
      "cell_type": "code",
      "execution_count": 46,
      "metadata": {
        "id": "ewwOYmEjOjez"
      },
      "outputs": [],
      "source": [
        "import scipy\n",
        "import numpy\n",
        "import math\n",
        "import itertools\n",
        "import functools\n",
        "import seaborn as sns"
      ]
    },
    {
      "cell_type": "code",
      "execution_count": 47,
      "metadata": {
        "id": "lo-65Hky7YYb"
      },
      "outputs": [],
      "source": [
        "numpy.set_printoptions(suppress=True)"
      ]
    },
    {
      "cell_type": "markdown",
      "metadata": {
        "id": "fZdZS9-fWnAu"
      },
      "source": [
        "#Trabajo práctico"
      ]
    },
    {
      "cell_type": "markdown",
      "metadata": {
        "id": "jpSkdN73Ub6r"
      },
      "source": [
        "## Demostración de sparse matrix (para propósitos de referencia)"
      ]
    },
    {
      "cell_type": "code",
      "execution_count": 48,
      "metadata": {
        "colab": {
          "base_uri": "https://localhost:8080/"
        },
        "id": "cOQmU6YbYBpl",
        "outputId": "aa5e12c1-8eae-44c1-f837-77f8a2c5b2fb"
      },
      "outputs": [
        {
          "output_type": "execute_result",
          "data": {
            "text/plain": [
              "array([[0., 0., 0., 0., 0., 0., 0., 0., 0., 0., 0., 0., 0.]])"
            ]
          },
          "metadata": {},
          "execution_count": 48
        }
      ],
      "source": [
        "scipy.sparse.csr_array((1, 13)).toarray()"
      ]
    },
    {
      "cell_type": "code",
      "execution_count": 49,
      "metadata": {
        "id": "FmvvwHjyOk2C"
      },
      "outputs": [],
      "source": [
        "sparse = scipy.sparse.csr_array([1,2,3,0,0,0,4])\n",
        "sparse_2 = scipy.sparse.csr_array([1,2,3,0,0,0,4])"
      ]
    },
    {
      "cell_type": "code",
      "execution_count": 50,
      "metadata": {
        "colab": {
          "base_uri": "https://localhost:8080/"
        },
        "id": "FsVYxWoEOt0R",
        "outputId": "845f4057-dc18-4c41-baf2-3520ccf50f23"
      },
      "outputs": [
        {
          "output_type": "stream",
          "name": "stdout",
          "text": [
            "  (0, 0)\t1\n",
            "  (0, 1)\t2\n",
            "  (0, 2)\t3\n",
            "  (0, 6)\t4\n"
          ]
        }
      ],
      "source": [
        "print(sparse)"
      ]
    },
    {
      "cell_type": "code",
      "execution_count": 51,
      "metadata": {
        "id": "MAr9KRxFgPcQ"
      },
      "outputs": [],
      "source": [
        "sparse_3 = scipy.sparse.lil_array((2,4))"
      ]
    },
    {
      "cell_type": "code",
      "execution_count": 52,
      "metadata": {
        "colab": {
          "base_uri": "https://localhost:8080/"
        },
        "id": "4_GeEec0g-6m",
        "outputId": "4b22a8fb-d985-49b6-bcc7-19d34f8a34f8"
      },
      "outputs": [
        {
          "output_type": "execute_result",
          "data": {
            "text/plain": [
              "<2x4 sparse array of type '<class 'numpy.float64'>'\n",
              "\twith 0 stored elements in List of Lists format>"
            ]
          },
          "metadata": {},
          "execution_count": 52
        }
      ],
      "source": [
        "sparse_3"
      ]
    },
    {
      "cell_type": "code",
      "execution_count": 53,
      "metadata": {
        "id": "psZrzJjVg6qM"
      },
      "outputs": [],
      "source": [
        "sparse_3[1,1] = 1"
      ]
    },
    {
      "cell_type": "markdown",
      "metadata": {
        "id": "P6eKe26-Wq_o"
      },
      "source": [
        "# Parte 1: Generar A y b para NxN nodos"
      ]
    },
    {
      "cell_type": "markdown",
      "metadata": {
        "id": "sfNyhayKGtdK"
      },
      "source": [
        "A es una matriz N^2 x N^2, correspondiente a la grilla con N^2 nodos.\n",
        "\n",
        "Buscamos resolver Ax = b, donde x es la temperatura de los nodos."
      ]
    },
    {
      "cell_type": "markdown",
      "metadata": {
        "id": "z7EsB--6U8gG"
      },
      "source": [
        "## Funciones auxiliares"
      ]
    },
    {
      "cell_type": "markdown",
      "metadata": {
        "id": "0WpyQA0HKtxW"
      },
      "source": [
        "estas funciones definen el layout de los nodos. i representa el eje horizontal de izq a derecha, j el eje vertical de abajo hacia arriba"
      ]
    },
    {
      "cell_type": "code",
      "execution_count": 54,
      "metadata": {
        "id": "_ZCmQJGPK3ZJ"
      },
      "outputs": [],
      "source": [
        "@functools.lru_cache\n",
        "def all_nodes(N):\n",
        "  ret = list(itertools.product(range(1, N+1), range(1, N+1)))\n",
        "  return ret\n",
        "\n",
        "@functools.lru_cache\n",
        "def coordinate_to_node_number(grid_rowsize,i,j):\n",
        "  \"\"\"\n",
        "  Determines how we number a node in the 2D position (i,j).\n",
        "  i,j from 1 to grid_rowsize.\n",
        "  Result from 1 to grid_rowsize squared.\n",
        "  \"\"\"\n",
        "  return (i-1)*grid_rowsize + (j-1) + 1\n",
        "\n",
        "\n",
        "# Devuelve la temperatura en las posiciones vacías en el extremo norte, sur, este, oeste\n",
        "def edge_temperature(N, i,j, cardinal_temperatures):\n",
        "  if(i == 0): return cardinal_temperatures['WEST']\n",
        "  if(i == N + 1): return cardinal_temperatures['EAST']\n",
        "  if(j == 0): return cardinal_temperatures['SOUTH']\n",
        "  if(j == N + 1): return cardinal_temperatures['NORTH']\n"
      ]
    },
    {
      "cell_type": "code",
      "execution_count": 55,
      "metadata": {
        "id": "laXI_D-IdVmH"
      },
      "outputs": [],
      "source": [
        "assert(coordinate_to_node_number(3,i=1,j=1) == 1)"
      ]
    },
    {
      "cell_type": "code",
      "source": [
        "assert(coordinate_to_node_number(3,i=1,j=3) == 3)"
      ],
      "metadata": {
        "id": "DtXkuCF74NXF"
      },
      "execution_count": 56,
      "outputs": []
    },
    {
      "cell_type": "code",
      "execution_count": 57,
      "metadata": {
        "id": "oOjai3dXw_9C"
      },
      "outputs": [],
      "source": [
        "assert(coordinate_to_node_number(3,i=3,j=3) == 9)"
      ]
    },
    {
      "cell_type": "code",
      "execution_count": 58,
      "metadata": {
        "id": "c0X1tj6Sddum"
      },
      "outputs": [],
      "source": [
        "assert(all_nodes(N=3)[0]== (1,1))"
      ]
    },
    {
      "cell_type": "markdown",
      "metadata": {
        "id": "GkOL7yqEU_by"
      },
      "source": [
        "coordinate_to_node_number nos numera los nodos dependiendo de su posición en la grilla, del 1 al N^2.\n",
        "\n",
        "is_there_a_node_in nos dice si hay un nodo en la posición i,j, en caso contrario se asume que es un nodo que existe en el extremo norte, sur, este, oeste (pues nunca se usan las posiciones noreste, suroeste, etc)\n",
        "\n",
        "nearby_coordinates nos da 4 puntos que son adyacentes vertical u horizontalmente a un punto i,j, sin tomar en cuenta el tamaño de la grilla."
      ]
    },
    {
      "cell_type": "code",
      "execution_count": 59,
      "metadata": {
        "id": "xrlACe2hU7tK"
      },
      "outputs": [],
      "source": [
        "\n",
        "\n",
        "def is_there_a_node_in(N,i,j):\n",
        "  return (i in range(1,N+1)) and (j in range(1,N+1))\n",
        "\n",
        "# returns an array with the [up, down, left, right] points of i,j\n",
        "def nearby_coordinates(i, j):\n",
        "  return [[i,j+1], [i, j-1], [i-1, j], [i+1, j]]"
      ]
    },
    {
      "cell_type": "markdown",
      "metadata": {
        "id": "YdYs0TDkVbdH"
      },
      "source": [
        "::neighbor_nodes toma coordenadas y nos dice si tiene nodos o no."
      ]
    },
    {
      "cell_type": "code",
      "execution_count": 60,
      "metadata": {
        "id": "JGOPvGSHGrQi"
      },
      "outputs": [],
      "source": [
        "# returns all neighbor nodes that exist in the range 1 <= i,j <= 3, as a map object\n",
        "# If they don't exist in the range, don't return them!\n",
        "def _neighbor_nodes(N,neighbor_points):\n",
        "  return filter(lambda pair: is_there_a_node_in(N,*pair), neighbor_points)\n",
        "# generate row ij based on the nodes we found\n",
        "# TODO: refactor, skip 0 values\n",
        "def _generate_cell_value(current_column, base_node, neighbors):\n",
        "  # The cell aij of the current node is always 4\n",
        "  if(current_column == base_node):\n",
        "    return 4;\n",
        "  elif(current_column in neighbors):\n",
        "    return -1;\n",
        "  return 0;"
      ]
    },
    {
      "cell_type": "markdown",
      "metadata": {
        "id": "G8lH606qKTap"
      },
      "source": [
        "## El algoritmo principal!\n",
        "\n",
        "Este algoritmo genera la fila de A correspondiente a la ecuación Eij.\n",
        "Llamamos akl, a la entrada de a correspondiente a la fila k y columna l.\n",
        "Generamos la fila sabiendo que la entrada diagonal akk debe ser 4, y las entradas correspondientes a los nodos adyacentes al nodo ij son -1."
      ]
    },
    {
      "cell_type": "code",
      "execution_count": 61,
      "metadata": {
        "id": "tDlsMq95XYFu"
      },
      "outputs": [],
      "source": [
        "def generate_matrix_row(N, i, j, target_matrix):\n",
        "  \"\"\"\n",
        "  N = 4\n",
        "  M = (N - 1) * (N - 1) = 9 nodos\n",
        "  A es una matrix 9x9\n",
        "\n",
        "\n",
        "  A is a MxM matrix.\n",
        "  We're trying to generate a row corresponding to the the node m = coordinate_to_node_number(i,j),\n",
        "  which corresponds to the equation Eij,\n",
        "  1 <= i,j <= M\n",
        "  1 <= m <= MxM\n",
        "\n",
        "  Where the equation Eij is:\n",
        "  T[i,j] = T[(i+1),j] + T[(i-1),j] + T[i,j+1] + T[j-1]\n",
        "\n",
        "  And edge values (existing in a row or column <1 or >3) are predefined constants.\n",
        "  \"\"\"\n",
        "  M = N*N\n",
        "  current_node = coordinate_to_node_number(N,i,j) # corresponde al numero de fila\n",
        "\n",
        "  # the 4 points surrounding i,j in a grid (up, down, left, right)\n",
        "  nearby = nearby_coordinates(i,j)\n",
        "\n",
        "  #  valid node neighbors\n",
        "  neighbors = _neighbor_nodes(N, nearby)\n",
        "\n",
        "  # number them from 1 to M\n",
        "  neighbors = map(lambda pair: coordinate_to_node_number(N, pair[0], pair[1]), neighbors)\n",
        "  neighbors = list(neighbors)\n",
        "\n",
        "  for cell in range(1, M+1):\n",
        "    target_matrix[current_node-1,cell-1] = _generate_cell_value(cell, current_node, neighbors)\n",
        "\n",
        "  return target_matrix\n"
      ]
    },
    {
      "cell_type": "markdown",
      "metadata": {
        "id": "SSuAuwzyTWQD"
      },
      "source": [
        "Pudiendo generar las filas de A, podemos generar todo A:"
      ]
    },
    {
      "cell_type": "code",
      "execution_count": 62,
      "metadata": {
        "id": "pY6fy6DfRPwB"
      },
      "outputs": [],
      "source": [
        "# Generate matrix\n",
        "# N es la altura de la grilla, o sea N=3 implica 9 nodos en una grilla y A es dimension 9x9\n",
        "# TODO: hacer mas eficiente, crear A de una vez\n",
        "def generate_matrix(N):\n",
        "  target_matrix = scipy.sparse.lil_array((N**2, N**2))\n",
        "  for (i,j) in all_nodes(N):\n",
        "    target_matrix = generate_matrix_row(N, i, j, target_matrix)\n",
        "  return target_matrix"
      ]
    },
    {
      "cell_type": "markdown",
      "metadata": {
        "id": "MmJPcTfpHlaw"
      },
      "source": [
        "Conociendo las temperatures norte, sur, este, oeste, podemos generar b\n",
        "(sabemos que es la suma de las temperaturas de los extremos a los que el nodo es adyacente)"
      ]
    },
    {
      "cell_type": "code",
      "execution_count": 63,
      "metadata": {
        "id": "4c9zXtTqGkOR"
      },
      "outputs": [],
      "source": [
        "\n",
        "\n",
        "# if the node is adjacent to an edge, get the temperatures at the edge\n",
        "def edge_temperatures(N, i, j, cardinal_temperatures):\n",
        "  # toma los 4 vecinos, y toma los que NO son nodos (o sea estan en la esquina)\n",
        "  edges = filter(lambda pair: not is_there_a_node_in(N, *pair), nearby_coordinates(i,j))\n",
        "  # ve si sus temperaturas son NW, NS, etc.\n",
        "  return map(lambda pair: edge_temperature(N, *pair, cardinal_temperatures), edges)\n",
        "\n",
        "def generate_b_entry(N, i, j, cardinal_temperatures):\n",
        "  # this is the b value corresponding to the (i,j)th equation\n",
        "  return sum(edge_temperatures(N, i,j, cardinal_temperatures))\n",
        "\n",
        "def generate_b(N, cardinal_temperatures):\n",
        "  return [generate_b_entry(N, i, j, cardinal_temperatures) for (i,j) in all_nodes(N)]"
      ]
    },
    {
      "cell_type": "markdown",
      "metadata": {
        "id": "A69IiuwXIbb2"
      },
      "source": [
        "## Ejemplos\n",
        "N = 4, M = 9, A is a 9x9 matrix\n",
        "it has exactly 2 valid node neighbors"
      ]
    },
    {
      "cell_type": "code",
      "execution_count": 64,
      "metadata": {
        "id": "wzNAla_HoOOW"
      },
      "outputs": [],
      "source": [
        "test_matrix = generate_matrix(3)"
      ]
    },
    {
      "cell_type": "code",
      "execution_count": 65,
      "metadata": {
        "colab": {
          "base_uri": "https://localhost:8080/"
        },
        "id": "iHOZ-cj2Zrbx",
        "outputId": "979e1cb2-12eb-4814-b348-d5c076ba16c2"
      },
      "outputs": [
        {
          "output_type": "stream",
          "name": "stdout",
          "text": [
            "[[ 4. -1.  0. -1.  0.  0.  0.  0.  0.]\n",
            " [-1.  4. -1.  0. -1.  0.  0.  0.  0.]\n",
            " [ 0. -1.  4.  0.  0. -1.  0.  0.  0.]\n",
            " [-1.  0.  0.  4. -1.  0. -1.  0.  0.]\n",
            " [ 0. -1.  0. -1.  4. -1.  0. -1.  0.]\n",
            " [ 0.  0. -1.  0. -1.  4.  0.  0. -1.]\n",
            " [ 0.  0.  0. -1.  0.  0.  4. -1.  0.]\n",
            " [ 0.  0.  0.  0. -1.  0. -1.  4. -1.]\n",
            " [ 0.  0.  0.  0.  0. -1.  0. -1.  4.]]\n"
          ]
        }
      ],
      "source": [
        "print(test_matrix.toarray())"
      ]
    },
    {
      "cell_type": "code",
      "execution_count": 66,
      "metadata": {
        "colab": {
          "base_uri": "https://localhost:8080/"
        },
        "id": "YfRvpYVaZytH",
        "outputId": "4d17e08f-6b5f-4c38-9be9-62e743666466"
      },
      "outputs": [
        {
          "output_type": "execute_result",
          "data": {
            "text/plain": [
              "[0.0, 0.0, 0.0, 0.0, 0, 0.0, 0.0, 0.0, 0.0]"
            ]
          },
          "metadata": {},
          "execution_count": 66
        }
      ],
      "source": [
        "CARDINAL_TEMPS = {'NORTH': 0.,'SOUTH': 0., 'EAST': 0., 'WEST': 0.}\n",
        "generate_b(3, CARDINAL_TEMPS)"
      ]
    },
    {
      "cell_type": "markdown",
      "metadata": {
        "id": "mUDUxYyoWdI5"
      },
      "source": [
        "# PARTE 2: Algoritmo SOR"
      ]
    },
    {
      "cell_type": "markdown",
      "metadata": {
        "id": "rI3eCw3mk06m"
      },
      "source": [
        "Implementa la fórmula derivada del sistema matricial A = D + L + U (Wikipedia en inglés) con la tecnica de reemplazo progresivo de Gauss-Sordel (?).\n",
        "\n",
        "Para usar, debo reemplazar la funcion A[i,j] con algo que devuelva valores aii de una matriz cuadrada a, y la función b(index) con algo que me devuelva valores de un vector b, para solucionar Ax=b.\n",
        "\n",
        "_x_iterations es una lista de k elementos, cada elemento representa una iteración x(k) que es un vector de n entradas, y la voy rellenando en secuencia, reutilizando valores."
      ]
    },
    {
      "cell_type": "markdown",
      "metadata": {
        "id": "HKLssx57gi9F"
      },
      "source": [
        "## Datos de entrada de solve for x"
      ]
    },
    {
      "cell_type": "markdown",
      "metadata": {
        "id": "yK4JKI78udPA"
      },
      "source": [
        "El algoritmo para generar las entradas de x(k) fue derivado de la formulación matricial, y se ve así:"
      ]
    },
    {
      "cell_type": "markdown",
      "metadata": {
        "id": "o7v9pr5Ee-XY"
      },
      "source": [
        "![image.png](data:image/png;base64,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)"
      ]
    },
    {
      "cell_type": "code",
      "execution_count": 67,
      "metadata": {
        "id": "jvrtF7D_g91e"
      },
      "outputs": [],
      "source": [
        "from numpy.lib.index_tricks import IndexExpression\n",
        "\n",
        "def a_times_x_j_k(A, i,j,x):\n",
        "    return A[i,j] * x[0, j]\n",
        "\n",
        "def x_i(b,A, index, previous_iteration, curr_iteration, omega, n):\n",
        "  # sumando 1\n",
        "  sum1 = (1 - omega)* previous_iteration[0, index]\n",
        "\n",
        "  # sumando 2\n",
        "    # factor\n",
        "  factor = omega / A[index,index]\n",
        "\n",
        "  # sumatorias\n",
        "  current_iteration_sum = 0\n",
        "  elems =  A[[index], :].nonzero()\n",
        "  for j in [j for j in elems[1] if j < index]:\n",
        "    current_iteration_sum += a_times_x_j_k(A, index, j, curr_iteration)\n",
        "\n",
        "  # sumatorias\n",
        "  old_iteration_sum = 0\n",
        "  for j in [j for j in elems[1] if j > index]:\n",
        "    old_iteration_sum += a_times_x_j_k(A, index, j, previous_iteration)\n",
        "\n",
        "    # bi\n",
        "  bi = b[index]\n",
        "\n",
        "    # factor (bi - sumatorias)\n",
        "  sum2 = factor * (bi - current_iteration_sum - old_iteration_sum)\n",
        "\n",
        "  return sum1 + sum2"
      ]
    },
    {
      "cell_type": "markdown",
      "metadata": {
        "id": "4AID71joa_rN"
      },
      "source": [
        "Calcula un vector x dados los calculos anteriores. En el calculo de xi, utiliza las entradas xj, j < i ya calculadas."
      ]
    },
    {
      "cell_type": "code",
      "execution_count": 68,
      "metadata": {
        "id": "v0mCEzy2g89J"
      },
      "outputs": [],
      "source": [
        "def x(b, A, previous_iteration, curr_iteration, omega, n):\n",
        "  # we need to initialize this in order to use our results\n",
        "  # from this same iteration\n",
        "  for index in range(0,n):\n",
        "    curr_iteration[0,index] = x_i(b, A, index, previous_iteration, curr_iteration, omega, n)\n",
        "\n",
        "  return curr_iteration"
      ]
    },
    {
      "cell_type": "markdown",
      "metadata": {
        "id": "tRY7avoua0nc"
      },
      "source": [
        "Corre las iteraciones del vector x, guardándolas en un a lista de _x_iterations"
      ]
    },
    {
      "cell_type": "code",
      "execution_count": 69,
      "metadata": {
        "id": "IiceM2Jz80em"
      },
      "outputs": [],
      "source": [
        "\n",
        "# PRINCIPAL\n",
        "def solve_for_x_until(b, A,  seed, until=1, omega=1.5):\n",
        "  assert(until > 0)\n",
        "  n = len(b)\n",
        "  assert(len(seed) == n)\n",
        "\n",
        "  # crea matriz de 2 filas\n",
        "  previous_iteration = numpy.array(seed, ndmin=2)\n",
        "  curr_iteration = numpy.empty((1, n))\n",
        "\n",
        "  error = math.inf\n",
        "  iterations=[]\n",
        "  error_log = []\n",
        "  while error > until:\n",
        "    curr_iteration = x(b, A, previous_iteration, curr_iteration, omega, n)\n",
        "    # intercambiar columnas\n",
        "    iterations.append((curr_iteration - previous_iteration))\n",
        "    # error\n",
        "    ssq_difference = numpy.sum(((curr_iteration - previous_iteration)[0]**2))\n",
        "    ssq_current_iteration = numpy.sum((curr_iteration)[0]**2)\n",
        "    error = ssq_difference / ssq_current_iteration\n",
        "    error_log.append(error)\n",
        "\n",
        "    previous_iteration = numpy.copy(curr_iteration)\n",
        "\n",
        "  return (curr_iteration, iterations, error_log)"
      ]
    },
    {
      "cell_type": "markdown",
      "metadata": {
        "id": "cKTml084Ei6o"
      },
      "source": [
        "\n",
        "# Tests"
      ]
    },
    {
      "cell_type": "code",
      "execution_count": 70,
      "metadata": {
        "id": "FatLCEpe89MT"
      },
      "outputs": [],
      "source": [
        "CARDINAL_TEMPS_2 = {'NORTH': 100.,'SOUTH': -100., 'EAST': 100., 'WEST': -100.}\n",
        "GRID = 31\n",
        "_b = generate_b(N=GRID, cardinal_temperatures=CARDINAL_TEMPS_2)\n",
        "_A = generate_matrix(N=GRID) # must be an array of arrays nxn"
      ]
    },
    {
      "cell_type": "code",
      "execution_count": 71,
      "metadata": {
        "id": "HjELVxCx-CgT"
      },
      "outputs": [],
      "source": [
        "(_x, iterations, errors) = solve_for_x_until(_b, _A, seed = [1]* (GRID**2), until=0.01, omega=1.5)"
      ]
    },
    {
      "cell_type": "code",
      "execution_count": 72,
      "metadata": {
        "colab": {
          "base_uri": "https://localhost:8080/"
        },
        "id": "7nR2mtsDAGD0",
        "outputId": "eb3d9547-fdcc-47fb-d81e-3372f24fb806"
      },
      "outputs": [
        {
          "output_type": "execute_result",
          "data": {
            "text/plain": [
              "[1.0181963426940048,\n",
              " 0.12530477210243185,\n",
              " 0.04315955585956537,\n",
              " 0.019470405591805802,\n",
              " 0.010532988460412595,\n",
              " 0.006454791885305585]"
            ]
          },
          "metadata": {},
          "execution_count": 72
        }
      ],
      "source": [
        "errors"
      ]
    },
    {
      "cell_type": "code",
      "execution_count": 73,
      "metadata": {
        "colab": {
          "base_uri": "https://localhost:8080/",
          "height": 447
        },
        "id": "vD25ObQx43Am",
        "outputId": "902c6b3e-9f1c-4d6d-8e66-d26512ed673f"
      },
      "outputs": [
        {
          "output_type": "execute_result",
          "data": {
            "text/plain": [
              "<Axes: >"
            ]
          },
          "metadata": {},
          "execution_count": 73
        },
        {
          "output_type": "display_data",
          "data": {
            "text/plain": [
              "<Figure size 640x480 with 2 Axes>"
            ],
            "image/png": "[encoded data removed]"
          },
          "metadata": {}
        }
      ],
      "source": [
        "reshaped = numpy.reshape(_x, (GRID, GRID))\n",
        "sns.heatmap(reshaped)"
      ]
    },
    {
      "cell_type": "code",
      "execution_count": 74,
      "metadata": {
        "id": "HpHpk5oI8I7S"
      },
      "outputs": [],
      "source": [
        "import json"
      ]
    },
    {
      "cell_type": "code",
      "execution_count": 75,
      "metadata": {
        "id": "-bn4pvqqmaTz"
      },
      "outputs": [],
      "source": [
        "import seaborn as sns"
      ]
    },
    {
      "cell_type": "markdown",
      "metadata": {
        "id": "D26Ie-F6Dayw"
      },
      "source": [
        "# N = 4"
      ]
    },
    {
      "cell_type": "code",
      "execution_count": 76,
      "metadata": {
        "id": "C_BUQ9eUDcFT"
      },
      "outputs": [],
      "source": [
        "CARDINAL_TEMPS_2 = {'NORTH': 1.,'SOUTH': 1., 'EAST': 1., 'WEST': 1.}\n",
        "GRID = 3\n",
        "_b = generate_b(N=GRID, cardinal_temperatures=CARDINAL_TEMPS_2)\n",
        "_A = generate_matrix(N=GRID) # must be an array of arrays nxn\n",
        "\n",
        "iterations_needed = []\n",
        "for _omega in numpy.arange(1,2,0.05):\n",
        " (_x, iterations, errors) = solve_for_x_until(_b, _A, seed = [0]* (GRID**2), until=0.01, omega=_omega)\n",
        " iterations_needed.append({\"OMEGA\": _omega, \"ITERATIONS\":len(iterations), \"ERRORS\": errors})"
      ]
    },
    {
      "cell_type": "code",
      "source": [
        "iterations_needed"
      ],
      "metadata": {
        "colab": {
          "base_uri": "https://localhost:8080/"
        },
        "id": "OnzER2HM4xgD",
        "outputId": "dd742d5a-5996-4a70-e6a2-ea1e3014fc5b"
      },
      "execution_count": 77,
      "outputs": [
        {
          "output_type": "execute_result",
          "data": {
            "text/plain": [
              "[{'OMEGA': 1.0,\n",
              "  'ITERATIONS': 4,\n",
              "  'ERRORS': [1.0,\n",
              "   0.11858558320025171,\n",
              "   0.028525084367650867,\n",
              "   0.007640723573057503]},\n",
              " {'OMEGA': 1.05,\n",
              "  'ITERATIONS': 4,\n",
              "  'ERRORS': [1.0,\n",
              "   0.11303272420495704,\n",
              "   0.025337031053655194,\n",
              "   0.006053007653359389]},\n",
              " {'OMEGA': 1.1,\n",
              "  'ITERATIONS': 4,\n",
              "  'ERRORS': [1.0,\n",
              "   0.10784264459784157,\n",
              "   0.022368733016265272,\n",
              "   0.004652347424897425]},\n",
              " {'OMEGA': 1.1500000000000001,\n",
              "  'ITERATIONS': 4,\n",
              "  'ERRORS': [1.0,\n",
              "   0.10315528664547169,\n",
              "   0.019715426100256873,\n",
              "   0.003473094868046225]},\n",
              " {'OMEGA': 1.2000000000000002,\n",
              "  'ITERATIONS': 4,\n",
              "  'ERRORS': [1.0,\n",
              "   0.09915244667294705,\n",
              "   0.01750077576183169,\n",
              "   0.0025637918824527686]},\n",
              " {'OMEGA': 1.2500000000000002,\n",
              "  'ITERATIONS': 4,\n",
              "  'ERRORS': [1.0,\n",
              "   0.09606740914798859,\n",
              "   0.01588631952404651,\n",
              "   0.0019981168097932818]},\n",
              " {'OMEGA': 1.3000000000000003,\n",
              "  'ITERATIONS': 4,\n",
              "  'ERRORS': [1.0,\n",
              "   0.09419653580458699,\n",
              "   0.01508492948131394,\n",
              "   0.0018922297912206765]},\n",
              " {'OMEGA': 1.3500000000000003,\n",
              "  'ITERATIONS': 4,\n",
              "  'ERRORS': [1.0,\n",
              "   0.09391307398005444,\n",
              "   0.015379741436643534,\n",
              "   0.0024320093122334016]},\n",
              " {'OMEGA': 1.4000000000000004,\n",
              "  'ITERATIONS': 4,\n",
              "  'ERRORS': [1.0,\n",
              "   0.09568337383362896,\n",
              "   0.01715040273494665,\n",
              "   0.003915732951853292]},\n",
              " {'OMEGA': 1.4500000000000004,\n",
              "  'ITERATIONS': 4,\n",
              "  'ERRORS': [1.0,\n",
              "   0.10008553136584415,\n",
              "   0.020908929091680305,\n",
              "   0.006821070898854517]},\n",
              " {'OMEGA': 1.5000000000000004,\n",
              "  'ITERATIONS': 5,\n",
              "  'ERRORS': [1.0,\n",
              "   0.10783014041970196,\n",
              "   0.02734784057063088,\n",
              "   0.011910597540750105,\n",
              "   0.005755646606870399]},\n",
              " {'OMEGA': 1.5500000000000005,\n",
              "  'ITERATIONS': 6,\n",
              "  'ERRORS': [1.0,\n",
              "   0.11978225178578138,\n",
              "   0.03740335505037514,\n",
              "   0.020398559327878363,\n",
              "   0.01016136106409608,\n",
              "   0.004425533310134844]},\n",
              " {'OMEGA': 1.6000000000000005,\n",
              "  'ITERATIONS': 6,\n",
              "  'ERRORS': [1.0,\n",
              "   0.13698268006295636,\n",
              "   0.052335806314548795,\n",
              "   0.03421498888212512,\n",
              "   0.017738600914367467,\n",
              "   0.009036677751163699]},\n",
              " {'OMEGA': 1.6500000000000006,\n",
              "  'ITERATIONS': 8,\n",
              "  'ERRORS': [1.0,\n",
              "   0.1606653243532902,\n",
              "   0.07382725553263288,\n",
              "   0.05642305077487252,\n",
              "   0.030718577136706164,\n",
              "   0.017759758557035907,\n",
              "   0.010735102072228246,\n",
              "   0.00746979983789199]},\n",
              " {'OMEGA': 1.7000000000000006,\n",
              "  'ITERATIONS': 9,\n",
              "  'ERRORS': [1.0,\n",
              "   0.19226504061042513,\n",
              "   0.10409092679358045,\n",
              "   0.09187109370203039,\n",
              "   0.05266163873963281,\n",
              "   0.03338438410231939,\n",
              "   0.020669255885197132,\n",
              "   0.02112307030318691,\n",
              "   0.004145134728090181]},\n",
              " {'OMEGA': 1.7500000000000007,\n",
              "  'ITERATIONS': 10,\n",
              "  'ERRORS': [1.0,\n",
              "   0.23340777322911774,\n",
              "   0.1459761189542484,\n",
              "   0.14818117335964184,\n",
              "   0.0889121621096572,\n",
              "   0.05982680981416853,\n",
              "   0.03837622261884396,\n",
              "   0.05745715298772524,\n",
              "   0.014323798588705475,\n",
              "   0.0034004420510008303]},\n",
              " {'OMEGA': 1.8000000000000007,\n",
              "  'ITERATIONS': 11,\n",
              "  'ERRORS': [1.0,\n",
              "   0.28587132252489694,\n",
              "   0.20303225901088168,\n",
              "   0.2371443001784727,\n",
              "   0.1468157031127534,\n",
              "   0.10194786601349905,\n",
              "   0.06894061334803127,\n",
              "   0.1564487110632378,\n",
              "   0.04362336176894396,\n",
              "   0.012183998718884162,\n",
              "   0.007378111571424289]},\n",
              " {'OMEGA': 1.8500000000000008,\n",
              "  'ITERATIONS': 17,\n",
              "  'ERRORS': [1.0,\n",
              "   0.35150201328961694,\n",
              "   0.27946389618018097,\n",
              "   0.37636241106755075,\n",
              "   0.23515974469559411,\n",
              "   0.16474482385900358,\n",
              "   0.11981969646170437,\n",
              "   0.4506203706164433,\n",
              "   0.11703125219331229,\n",
              "   0.04091344626315357,\n",
              "   0.02505127726918139,\n",
              "   0.027834329521225578,\n",
              "   0.01753181842236467,\n",
              "   0.016208519663936327,\n",
              "   0.010503903881180825,\n",
              "   0.016863752671028666,\n",
              "   0.009209572113973531]},\n",
              " {'OMEGA': 1.9000000000000008,\n",
              "  'ITERATIONS': 23,\n",
              "  'ERRORS': [1.0,\n",
              "   0.43207123169842143,\n",
              "   0.3798668861636498,\n",
              "   0.5901762091131393,\n",
              "   0.36210250001654093,\n",
              "   0.25175970752094257,\n",
              "   0.20088653000513862,\n",
              "   1.518804482426721,\n",
              "   0.27383808058089393,\n",
              "   0.12749365619025207,\n",
              "   0.07853189824667792,\n",
              "   0.11382593236974024,\n",
              "   0.07243406161149066,\n",
              "   0.06263056413816966,\n",
              "   0.048314391239456696,\n",
              "   0.10923064203599668,\n",
              "   0.05652653329742514,\n",
              "   0.028428112298289742,\n",
              "   0.019148350798883305,\n",
              "   0.025965163816550972,\n",
              "   0.013887938541035736,\n",
              "   0.01347080012889526,\n",
              "   0.009913389050662509]},\n",
              " {'OMEGA': 1.9500000000000008,\n",
              "  'ITERATIONS': 46,\n",
              "  'ERRORS': [1.0,\n",
              "   0.5290590592901508,\n",
              "   0.5086021705275152,\n",
              "   0.9069184494230362,\n",
              "   0.5312887925646871,\n",
              "   0.36304184383186894,\n",
              "   0.32314576789702315,\n",
              "   7.743385280820632,\n",
              "   0.5507203696628178,\n",
              "   0.36018430663695455,\n",
              "   0.22191982891338827,\n",
              "   0.47448951128739997,\n",
              "   0.2715541742059256,\n",
              "   0.19888804964756274,\n",
              "   0.1957746790082591,\n",
              "   0.9281511579083465,\n",
              "   0.26561860391985986,\n",
              "   0.1980143717214085,\n",
              "   0.11625042506995481,\n",
              "   0.2778084653227227,\n",
              "   0.13093827913325806,\n",
              "   0.10224684291082653,\n",
              "   0.10928721413511142,\n",
              "   0.19144111297581007,\n",
              "   0.11061428872987435,\n",
              "   0.08751215689250073,\n",
              "   0.06382804794032967,\n",
              "   0.16018639408171356,\n",
              "   0.06707536926457375,\n",
              "   0.04715184301424213,\n",
              "   0.05262565683196294,\n",
              "   0.05187195801606174,\n",
              "   0.041046627542284254,\n",
              "   0.03396622220662371,\n",
              "   0.03255454120936665,\n",
              "   0.08325300112960586,\n",
              "   0.03682795213460902,\n",
              "   0.020039103479643227,\n",
              "   0.021639691138007146,\n",
              "   0.017429107466126376,\n",
              "   0.015016507605490196,\n",
              "   0.013324584125320628,\n",
              "   0.014872825946622415,\n",
              "   0.03795217239172023,\n",
              "   0.020112576107926435,\n",
              "   0.008650230801489819]}]"
            ]
          },
          "metadata": {},
          "execution_count": 77
        }
      ]
    },
    {
      "cell_type": "markdown",
      "metadata": {
        "id": "bvahIwQ9DZyG"
      },
      "source": [
        "# N = 32"
      ]
    },
    {
      "cell_type": "code",
      "execution_count": 78,
      "metadata": {
        "id": "MKpNAi4V8sjp"
      },
      "outputs": [],
      "source": [
        "CARDINAL_TEMPS_2 = {'NORTH': 1.,'SOUTH': 1., 'EAST': 1., 'WEST': 1.}\n",
        "GRID = 31\n",
        "_b = generate_b(N=GRID, cardinal_temperatures=CARDINAL_TEMPS_2)\n",
        "_A = generate_matrix(N=GRID) # must be an array of arrays nxn"
      ]
    },
    {
      "cell_type": "code",
      "execution_count": 79,
      "metadata": {
        "id": "4u1qLpz5zSP4"
      },
      "outputs": [],
      "source": [
        "iterations_needed = []\n",
        "for _omega in numpy.arange(1,2,0.05):\n",
        " (_x, iterations, errors) = solve_for_x_until(_b, _A, seed = [0]* (GRID**2), until=0.0001, omega=_omega)\n",
        " iterations_needed.append({\"OMEGA\": _omega, \"ITERATIONS\":len(iterations), \"ERRORS\": errors})"
      ]
    },
    {
      "cell_type": "code",
      "execution_count": 80,
      "metadata": {
        "id": "mR37kiVgCp6S",
        "colab": {
          "base_uri": "https://localhost:8080/"
        },
        "outputId": "ed66bbcc-c103-42cd-f26f-63357e92a1e7"
      },
      "outputs": [
        {
          "output_type": "execute_result",
          "data": {
            "text/plain": [
              "[{'OMEGA': 1.0,\n",
              "  'ITERATIONS': 44,\n",
              "  'ERRORS': [1.0,\n",
              "   0.12978828165378178,\n",
              "   0.04292655675037578,\n",
              "   0.020494628669286016,\n",
              "   0.011809696286917125,\n",
              "   0.007617560962199083,\n",
              "   0.0052955662075047675,\n",
              "   0.0038827495286664444,\n",
              "   0.0029624210844667693,\n",
              "   0.0023310241218211986,\n",
              "   0.0018798619523009658,\n",
              "   0.0015467377260864527,\n",
              "   0.0012940386739045686,\n",
              "   0.0010979655590469782,\n",
              "   0.0009428800563671195,\n",
              "   0.0008181723295879876,\n",
              "   0.0007164438230998201,\n",
              "   0.000632410967863627,\n",
              "   0.0005622210357403806,\n",
              "   0.0005030123841184833,\n",
              "   0.0004526243281061887,\n",
              "   0.0004094012500493187,\n",
              "   0.0003720575749065885,\n",
              "   0.0003395829552700458,\n",
              "   0.0003111745661032571,\n",
              "   0.00028618801707031244,\n",
              "   0.00026410126652516455,\n",
              "   0.000244487755116053,\n",
              "   0.00022699616920941556,\n",
              "   0.00021133503340980123,\n",
              "   0.0001972608623549175,\n",
              "   0.0001845689646433033,\n",
              "   0.00017308624302759474,\n",
              "   0.00016266551138965053,\n",
              "   0.0001531809743387691,\n",
              "   0.0001445246053311716,\n",
              "   0.00013660322460500807,\n",
              "   0.00012933612617919448,\n",
              "   0.00012265313864955556,\n",
              "   0.0001164930309979115,\n",
              "   0.00011080219455049014,\n",
              "   0.00010553354731898151,\n",
              "   0.00010064561847913979,\n",
              "   9.610177959319869e-05]},\n",
              " {'OMEGA': 1.05,\n",
              "  'ITERATIONS': 44,\n",
              "  'ERRORS': [1.0,\n",
              "   0.12621465645670207,\n",
              "   0.04172149353921875,\n",
              "   0.019981616934000974,\n",
              "   0.011544032631059234,\n",
              "   0.007460961886614619,\n",
              "   0.005194720738766955,\n",
              "   0.00381354517858175,\n",
              "   0.002912608547842586,\n",
              "   0.002293815005834383,\n",
              "   0.001851232380007156,\n",
              "   0.0015241715655198206,\n",
              "   0.0012758928765167444,\n",
              "   0.0010831281666962534,\n",
              "   0.0009305757514684204,\n",
              "   0.0008078467544807975,\n",
              "   0.0007076920323254661,\n",
              "   0.0006249316501418429,\n",
              "   0.0005557863338867898,\n",
              "   0.0004974474618449642,\n",
              "   0.0004477932055033333,\n",
              "   0.00040519677900788525,\n",
              "   0.00036839421681187604,\n",
              "   0.0003363914995135251,\n",
              "   0.0003083982214639975,\n",
              "   0.00028377949286296903,\n",
              "   0.0002620205792316335,\n",
              "   0.00024270057416302798,\n",
              "   0.00022547256775831286,\n",
              "   0.0002100485457518801,\n",
              "   0.00019618777450463714,\n",
              "   0.00018368778261392953,\n",
              "   0.00017237729635726832,\n",
              "   0.00016211065924780744,\n",
              "   0.0001527633889530075,\n",
              "   0.0001442286131795246,\n",
              "   0.00013641419025729512,\n",
              "   0.00012924036714928973,\n",
              "   0.00012263786235651463,\n",
              "   0.00011654628708846081,\n",
              "   0.00011091283752938273,\n",
              "   0.00010569120576062036,\n",
              "   0.00010084066812710882,\n",
              "   9.632531845255192e-05]},\n",
              " {'OMEGA': 1.1,\n",
              "  'ITERATIONS': 44,\n",
              "  'ERRORS': [1.0,\n",
              "   0.12321086334376286,\n",
              "   0.04067063314732577,\n",
              "   0.019528894400550192,\n",
              "   0.011307091778805178,\n",
              "   0.007320129050052695,\n",
              "   0.005103458598773128,\n",
              "   0.003750614325154843,\n",
              "   0.0028671379946903983,\n",
              "   0.0022597444174979825,\n",
              "   0.0018249527695700575,\n",
              "   0.0015034182102766074,\n",
              "   0.001259183097134163,\n",
              "   0.0010694568948228912,\n",
              "   0.0009192416594208211,\n",
              "   0.0007983483589148041,\n",
              "   0.0006996631404282551,\n",
              "   0.0006180998613130708,\n",
              "   0.0005499455559090312,\n",
              "   0.0004924392316569216,\n",
              "   0.00044349371102131663,\n",
              "   0.0004015076762618015,\n",
              "   0.0003652360383180029,\n",
              "   0.00033369887196118273,\n",
              "   0.00030611637124701663,\n",
              "   0.0002818616826869131,\n",
              "   0.0002604262258144941,\n",
              "   0.00024139386808797806,\n",
              "   0.00022442146504977688,\n",
              "   0.00020922403473875884,\n",
              "   0.00019556334593484834,\n",
              "   0.00018323904887644794,\n",
              "   0.00017208171901936448,\n",
              "   0.00016194735421106883,\n",
              "   0.00015271298623393604,\n",
              "   0.00014427315422479393,\n",
              "   0.00013653705023496294,\n",
              "   0.00012942619312740258,\n",
              "   0.00012287252092483568,\n",
              "   0.00011681681697843088,\n",
              "   0.00011120740428328482,\n",
              "   0.00010599905660469497,\n",
              "   0.00010115208600346464,\n",
              "   9.663157473128393e-05]},\n",
              " {'OMEGA': 1.1500000000000001,\n",
              "  'ITERATIONS': 44,\n",
              "  'ERRORS': [1.0,\n",
              "   0.12083958931274834,\n",
              "   0.03978755838332783,\n",
              "   0.019136575290133656,\n",
              "   0.011097916467152793,\n",
              "   0.007194224465931036,\n",
              "   0.005021148290371195,\n",
              "   0.0036934908680425317,\n",
              "   0.0028256633355593316,\n",
              "   0.002228553126628328,\n",
              "   0.001800828728305271,\n",
              "   0.0014843339090281423,\n",
              "   0.0012438071124972034,\n",
              "   0.0010568850733937332,\n",
              "   0.0009088424960087144,\n",
              "   0.0007896699862749819,\n",
              "   0.0006923751813350413,\n",
              "   0.0006119558516641424,\n",
              "   0.0005447579713800825,\n",
              "   0.00048806250395539395,\n",
              "   0.00043981246667833864,\n",
              "   0.0003984284827307026,\n",
              "   0.00036268155999277004,\n",
              "   0.00033160371263425155,\n",
              "   0.0003044241126527989,\n",
              "   0.00028052277859493013,\n",
              "   0.00025939651037986956,\n",
              "   0.00024063350486346923,\n",
              "   0.00022389421049263958,\n",
              "   0.00020889672404021708,\n",
              "   0.00019540553380275897,\n",
              "   0.0001832227562246621,\n",
              "   0.00017218125015104214,\n",
              "   0.0001621391592524189,\n",
              "   0.00015297555114574608,\n",
              "   0.00014458690632374933,\n",
              "   0.00013688427126725634,\n",
              "   0.0001297909349125816,\n",
              "   0.0001232405207040093,\n",
              "   0.00011717541107084912,\n",
              "   0.00011154543964353976,\n",
              "   0.00010630680050638809,\n",
              "   0.00010142113445170525,\n",
              "   9.685476040031539e-05]},\n",
              " {'OMEGA': 1.2000000000000002,\n",
              "  'ITERATIONS': 44,\n",
              "  'ERRORS': [1.0,\n",
              "   0.11916155501487886,\n",
              "   0.03909984980285181,\n",
              "   0.018808857434292954,\n",
              "   0.010917069215428885,\n",
              "   0.0070831226260742305,\n",
              "   0.004947537856353366,\n",
              "   0.0036419337777099533,\n",
              "   0.002787986628143953,\n",
              "   0.002200090083234447,\n",
              "   0.0017787532584991328,\n",
              "   0.0014668521427366622,\n",
              "   0.0012297357363073034,\n",
              "   0.0010454179634610335,\n",
              "   0.0008994149327189112,\n",
              "   0.0007818762049692646,\n",
              "   0.0006859164729149189,\n",
              "   0.0006066069100381465,\n",
              "   0.0005403445555422409,\n",
              "   0.0004844463508090048,\n",
              "   0.00043688098129975576,\n",
              "   0.0003960876467915362,\n",
              "   0.00036085104305071044,\n",
              "   0.0003302135063522348,\n",
              "   0.0003034122220694483,\n",
              "   0.000279833645827927,\n",
              "   0.0002589799421757804,\n",
              "   0.00024044394232027445,\n",
              "   0.00022389022677085275,\n",
              "   0.00020904066998662926,\n",
              "   0.000195663276047063,\n",
              "   0.00018356347010280052,\n",
              "   0.00017257724259277422,\n",
              "   0.00016256570586163752,\n",
              "   0.00015341073806962325,\n",
              "   0.00014501147187373183,\n",
              "   0.00013728144516390097,\n",
              "   0.0001301462748842955,\n",
              "   0.00012354174728123176,\n",
              "   0.00011741224200833998,\n",
              "   0.0001117094256411631,\n",
              "   0.00010639116390535505,\n",
              "   0.00010142061244703504,\n",
              "   9.676545409416869e-05]},\n",
              " {'OMEGA': 1.2500000000000002,\n",
              "  'ITERATIONS': 44,\n",
              "  'ERRORS': [1.0,\n",
              "   0.11823233696746398,\n",
              "   0.03865222266617274,\n",
              "   0.01855608725336859,\n",
              "   0.010767256315706328,\n",
              "   0.006987637940310145,\n",
              "   0.004882855388516578,\n",
              "   0.0035959780228640914,\n",
              "   0.002754089809146721,\n",
              "   0.002174338233536133,\n",
              "   0.0017587320973751752,\n",
              "   0.0014510100159203987,\n",
              "   0.001217039751067226,\n",
              "   0.0010351586772433343,\n",
              "   0.0008910905231381471,\n",
              "   0.000775121248808276,\n",
              "   0.0006804568590972639,\n",
              "   0.0006022306582723843,\n",
              "   0.0005368826374029935,\n",
              "   0.0004817599689728575,\n",
              "   0.0004348530998297498,\n",
              "   0.00039461735335487633,\n",
              "   0.00035984980662670773,\n",
              "   0.0003296027007534789,\n",
              "   0.0003031214870760838,\n",
              "   0.00027979979364122225,\n",
              "   0.00025914621035685577,\n",
              "   0.00024075945939343462,\n",
              "   0.00022430960208026424,\n",
              "   0.00020952365102208306,\n",
              "   0.00019617443827780914,\n",
              "   0.00018407191917442554,\n",
              "   0.00017305631856033598,\n",
              "   0.000162992685418739,\n",
              "   0.00015376653456102503,\n",
              "   0.00014528033502827467,\n",
              "   0.00013745066351351088,\n",
              "   0.00013020588413862458,\n",
              "   0.00012348424778219815,\n",
              "   0.00011723232798585869,\n",
              "   0.00011140372846186631,\n",
              "   0.00010595801093788045,\n",
              "   0.00010085980261713846,\n",
              "   9.607805070432367e-05]},\n",
              " {'OMEGA': 1.3000000000000003,\n",
              "  'ITERATIONS': 43,\n",
              "  'ERRORS': [1.0,\n",
              "   0.11809809955136714,\n",
              "   0.038509413849788184,\n",
              "   0.018398047990295752,\n",
              "   0.010654559426231012,\n",
              "   0.006909998749134075,\n",
              "   0.0048280320195275735,\n",
              "   0.003556057934101771,\n",
              "   0.0027242145809373056,\n",
              "   0.00215147530556748,\n",
              "   0.0017409355225983878,\n",
              "   0.0014369940432315087,\n",
              "   0.0012059291476161243,\n",
              "   0.0010263389275235759,\n",
              "   0.0008841158020968315,\n",
              "   0.0007696567575861155,\n",
              "   0.000676242159822256,\n",
              "   0.000599056147544127,\n",
              "   0.0005345743902645134,\n",
              "   0.0004801699759160372,\n",
              "   0.000433852991619652,\n",
              "   0.0003940943726441242,\n",
              "   0.00035970420983015545,\n",
              "   0.0003297460520060372,\n",
              "   0.0003034754919293798,\n",
              "   0.00028029544540909834,\n",
              "   0.00025972310654006844,\n",
              "   0.00024136520225152762,\n",
              "   0.00022489923479992321,\n",
              "   0.00021005910500517693,\n",
              "   0.00019662398201142375,\n",
              "   0.0001844096078778329,\n",
              "   0.00017326144842099767,\n",
              "   0.00016304925822821408,\n",
              "   0.00015366273897605634,\n",
              "   0.00014500805019178936,\n",
              "   0.0001370049898048742,\n",
              "   0.00012958470465195638,\n",
              "   0.0001226878229266821,\n",
              "   0.00011626292447059776,\n",
              "   0.00011026528293458202,\n",
              "   0.00010465582772417207,\n",
              "   9.94002843638688e-05]},\n",
              " {'OMEGA': 1.3500000000000003,\n",
              "  'ITERATIONS': 43,\n",
              "  'ERRORS': [1.0,\n",
              "   0.1187899564660495,\n",
              "   0.038758397133900106,\n",
              "   0.018368742909525743,\n",
              "   0.01059071325674985,\n",
              "   0.006854793133026524,\n",
              "   0.004785155656269175,\n",
              "   0.003523264698521304,\n",
              "   0.0026990287574790994,\n",
              "   0.0021319920322605333,\n",
              "   0.0017257866877680922,\n",
              "   0.0014252052819229688,\n",
              "   0.001196796519272309,\n",
              "   0.001019340371486752,\n",
              "   0.0008788513074800217,\n",
              "   0.0007658090640455978,\n",
              "   0.0006735513879404782,\n",
              "   0.0005973036328622623,\n",
              "   0.0005335724824595071,\n",
              "   0.0004797556291945222,\n",
              "   0.0004338837076343475,\n",
              "   0.0003944455581076774,\n",
              "   0.00036026734965817524,\n",
              "   0.00033042732590894,\n",
              "   0.0003041946127508968,\n",
              "   0.00028098459521965895,\n",
              "   0.00026032590824463813,\n",
              "   0.00024183570194405651,\n",
              "   0.00022520089146126911,\n",
              "   0.00021016379508507279,\n",
              "   0.00019651103087287177,\n",
              "   0.00018406486054553165,\n",
              "   0.00017267639045167248,\n",
              "   0.0001622201950983569,\n",
              "   0.00015259003982267974,\n",
              "   0.0001436954593069202,\n",
              "   0.00013545900707593854,\n",
              "   0.0001278140342197038,\n",
              "   0.00012070288775144282,\n",
              "   0.00011407544328800196,\n",
              "   0.0001078879052431376,\n",
              "   0.00010210182194796003,\n",
              "   9.668327412078619e-05]},\n",
              " {'OMEGA': 1.4000000000000004,\n",
              "  'ITERATIONS': 42,\n",
              "  'ERRORS': [1.0,\n",
              "   0.12031660094160151,\n",
              "   0.0395093024599357,\n",
              "   0.018522843253592314,\n",
              "   0.010597083028306607,\n",
              "   0.006830826073271093,\n",
              "   0.004758382333709581,\n",
              "   0.0034998598532931767,\n",
              "   0.002679947796213871,\n",
              "   0.002116902714326205,\n",
              "   0.001714096733684771,\n",
              "   0.0014163360335685518,\n",
              "   0.0011902446169538084,\n",
              "   0.0010146794631213005,\n",
              "   0.0008757196605485038,\n",
              "   0.0007638967822439709,\n",
              "   0.000672590565551407,\n",
              "   0.0005970615128370933,\n",
              "   0.0005338468432388748,\n",
              "   0.0004803715906936763,\n",
              "   0.00043469133686357703,\n",
              "   0.00039531786615730106,\n",
              "   0.0003610984423028477,\n",
              "   0.0003311305898328465,\n",
              "   0.00030470089553560995,\n",
              "   0.0002812403808814376,\n",
              "   0.00026029151155347965,\n",
              "   0.00024148351211994323,\n",
              "   0.000224513694992284,\n",
              "   0.0002091332023322654,\n",
              "   0.00019513602437030143,\n",
              "   0.0001823504753363525,\n",
              "   0.00017063253046114928,\n",
              "   0.0001598605851577789,\n",
              "   0.00014993130980244925,\n",
              "   0.00014075635426268184,\n",
              "   0.00013225971518928358,\n",
              "   0.00012437562271028327,\n",
              "   0.00011704683595854162,\n",
              "   0.00011022326177860737,\n",
              "   0.00010386083000891121,\n",
              "   9.792057335817948e-05]},\n",
              " {'OMEGA': 1.4500000000000004,\n",
              "  'ITERATIONS': 41,\n",
              "  'ERRORS': [1.0,\n",
              "   0.12265471679566163,\n",
              "   0.04089412884736768,\n",
              "   0.018943747485507888,\n",
              "   0.010711222861579899,\n",
              "   0.006854682844491381,\n",
              "   0.004755770863533229,\n",
              "   0.0034902901604337198,\n",
              "   0.0026697373217909218,\n",
              "   0.0021081046268488154,\n",
              "   0.0017072589876057959,\n",
              "   0.0014114422408986525,\n",
              "   0.0011870661807473451,\n",
              "   0.0010129173732854946,\n",
              "   0.0008750646227078777,\n",
              "   0.000764055557712313,\n",
              "   0.0006732975511397161,\n",
              "   0.0005980834643931648,\n",
              "   0.0005349841497212024,\n",
              "   0.00048145764701359827,\n",
              "   0.00043559078726366677,\n",
              "   0.0003959241587963808,\n",
              "   0.0003613309848862398,\n",
              "   0.00033093171629752766,\n",
              "   0.0003040328016304745,\n",
              "   0.0002800821460406865,\n",
              "   0.0002586362906366379,\n",
              "   0.0002393359521041687,\n",
              "   0.00022188760831107432,\n",
              "   0.00020604951007570634,\n",
              "   0.00019162096861813008,\n",
              "   0.00017843408641705056,\n",
              "   0.00016634733002724925,\n",
              "   0.00015524050649161906,\n",
              "   0.00014501081636815135,\n",
              "   0.00013556973591138333,\n",
              "   0.00012684053997468497,\n",
              "   0.00011875632188071742,\n",
              "   0.00011125840057450889,\n",
              "   0.00010429503126879535,\n",
              "   9.782035535821114e-05]},\n",
              " {'OMEGA': 1.5000000000000004,\n",
              "  'ITERATIONS': 40,\n",
              "  'ERRORS': [1.0,\n",
              "   0.12573646758561274,\n",
              "   0.04306193904155989,\n",
              "   0.019752773550767072,\n",
              "   0.010997057543251,\n",
              "   0.006957314515653114,\n",
              "   0.004792954600248234,\n",
              "   0.0035032121986264273,\n",
              "   0.0026736510708394168,\n",
              "   0.002108999297777291,\n",
              "   0.001707537152694434,\n",
              "   0.0014120041926260981,\n",
              "   0.001188148656126115,\n",
              "   0.0010144621511549968,\n",
              "   0.0008768920777550595,\n",
              "   0.0007659498598654227,\n",
              "   0.0006750488398522545,\n",
              "   0.0005995078881251157,\n",
              "   0.000535932077152942,\n",
              "   0.0004818154384201754,\n",
              "   0.0004352790868037578,\n",
              "   0.0003948944019691723,\n",
              "   0.0003595611184030016,\n",
              "   0.000328421723997635,\n",
              "   0.00030080038559159077,\n",
              "   0.0002761587587692005,\n",
              "   0.00025406361622090553,\n",
              "   0.0002341628713737082,\n",
              "   0.00021616764342549744,\n",
              "   0.00019983872002213963,\n",
              "   0.00018497625380513457,\n",
              "   0.0001714118365545395,\n",
              "   0.00015900236807652406,\n",
              "   0.00014762530103591787,\n",
              "   0.0001371749306594442,\n",
              "   0.00012755947563585426,\n",
              "   0.00011869876039575714,\n",
              "   0.00011052235778576501,\n",
              "   0.00010296808779991752,\n",
              "   9.598079459767557e-05]},\n",
              " {'OMEGA': 1.5500000000000005,\n",
              "  'ITERATIONS': 38,\n",
              "  'ERRORS': [1.0,\n",
              "   0.1294329824656934,\n",
              "   0.04616865167445304,\n",
              "   0.021118236056869105,\n",
              "   0.011559644418256125,\n",
              "   0.0071955986550131966,\n",
              "   0.004900331216570386,\n",
              "   0.003555594191886081,\n",
              "   0.0027016881504828456,\n",
              "   0.0021256715075869234,\n",
              "   0.0017185920679001225,\n",
              "   0.0014200466471659089,\n",
              "   0.0011943429916639176,\n",
              "   0.0010192923676666185,\n",
              "   0.0008805235125297692,\n",
              "   0.0007684088413409978,\n",
              "   0.0006763132104124335,\n",
              "   0.0005995515799584533,\n",
              "   0.0005347452929526105,\n",
              "   0.0004794118069952112,\n",
              "   0.0004316960239876112,\n",
              "   0.0003901901612685868,\n",
              "   0.0003538104850194179,\n",
              "   0.0003217114281349212,\n",
              "   0.00029322480008466846,\n",
              "   0.0002678161479600053,\n",
              "   0.00024505303104097666,\n",
              "   0.00022458168939456795,\n",
              "   0.0002061097021342055,\n",
              "   0.0001893929684618858,\n",
              "   0.00017422584070243689,\n",
              "   0.00016043346702719242,\n",
              "   0.0001478659156231659,\n",
              "   0.000136393708949424,\n",
              "   0.000125904349690714,\n",
              "   0.0001162995650784526,\n",
              "   0.0001074930904015939,\n",
              "   9.940886461449714e-05]},\n",
              " {'OMEGA': 1.6000000000000005,\n",
              "  'ITERATIONS': 37,\n",
              "  'ERRORS': [1.0,\n",
              "   0.13353206784752183,\n",
              "   0.05035867771146529,\n",
              "   0.023261764307141494,\n",
              "   0.012564744214264812,\n",
              "   0.007671341806141849,\n",
              "   0.005136616311821063,\n",
              "   0.003681106629276274,\n",
              "   0.002773410360524947,\n",
              "   0.0021695061830590734,\n",
              "   0.0017467980911262974,\n",
              "   0.0014386970127056578,\n",
              "   0.0012065890905212024,\n",
              "   0.0010268507237123706,\n",
              "   0.0008843848236190255,\n",
              "   0.0007691905981525931,\n",
              "   0.000674440228657425,\n",
              "   0.0005953494925866349,\n",
              "   0.0005284884853370796,\n",
              "   0.0004713470862735647,\n",
              "   0.0004220533902193254,\n",
              "   0.00037918690242096196,\n",
              "   0.00034165202773744094,\n",
              "   0.0003085908165027646,\n",
              "   0.00027932178984752876,\n",
              "   0.00025329640189385817,\n",
              "   0.00023006762078157068,\n",
              "   0.00020926695758642855,\n",
              "   0.00019058746210696008,\n",
              "   0.00017377098471591041,\n",
              "   0.00015859852321493056,\n",
              "   0.00014488229149611182,\n",
              "   0.00013246001134335406,\n",
              "   0.00012119094033146002,\n",
              "   0.00011095257646448887,\n",
              "   0.00010163790298978406,\n",
              "   9.315310259771546e-05]},\n",
              " {'OMEGA': 1.6500000000000006,\n",
              "  'ITERATIONS': 35,\n",
              "  'ERRORS': [1.0,\n",
              "   0.13770706595366997,\n",
              "   0.05573413232430237,\n",
              "   0.026456614691807333,\n",
              "   0.014261245003842767,\n",
              "   0.008559935107636701,\n",
              "   0.0056130823294467235,\n",
              "   0.003947199815037159,\n",
              "   0.0029288683729287238,\n",
              "   0.0022638413795856823,\n",
              "   0.0018052194960325103,\n",
              "   0.0014745753796366902,\n",
              "   0.0012273948525448927,\n",
              "   0.0010370125721829476,\n",
              "   0.0008866975611810893,\n",
              "   0.0007655306763475462,\n",
              "   0.0006661422394857272,\n",
              "   0.0005834115040866233,\n",
              "   0.0005136880698589463,\n",
              "   0.00045430922314291714,\n",
              "   0.0004032916627645103,\n",
              "   0.0003591295002191496,\n",
              "   0.00032065892327947184,\n",
              "   0.0002869657147250538,\n",
              "   0.0002573209119572738,\n",
              "   0.0002311352947768009,\n",
              "   0.0002079266839936369,\n",
              "   0.00018729609161034696,\n",
              "   0.00016891007503779407,\n",
              "   0.00015248749902161193,\n",
              "   0.00013778947011733905,\n",
              "   0.00012460903945240488,\n",
              "   0.00011276646224964635,\n",
              "   0.00010210723615194203,\n",
              "   9.249824607544723e-05]},\n",
              " {'OMEGA': 1.7000000000000006,\n",
              "  'ITERATIONS': 33,\n",
              "  'ERRORS': [1.0,\n",
              "   0.14147115519597744,\n",
              "   0.06230423459185041,\n",
              "   0.031007782522069705,\n",
              "   0.016999364871794913,\n",
              "   0.010148518819785981,\n",
              "   0.006534091845014413,\n",
              "   0.004489099021390091,\n",
              "   0.0032539732128496145,\n",
              "   0.0024618671436745254,\n",
              "   0.0019260475521787378,\n",
              "   0.001546573933318576,\n",
              "   0.0012672640883578117,\n",
              "   0.001055010500131619,\n",
              "   0.0008894177914050321,\n",
              "   0.0007574017050142586,\n",
              "   0.0006502559579125015,\n",
              "   0.0005619960907785411,\n",
              "   0.0004883887611673519,\n",
              "   0.0004263623704928164,\n",
              "   0.00037363748790065717,\n",
              "   0.00032848817375333116,\n",
              "   0.0002895837895016858,\n",
              "   0.00025588169818511575,\n",
              "   0.0002265529449051002,\n",
              "   0.00020092979507339156,\n",
              "   0.00017846805183684717,\n",
              "   0.0001587195487367334,\n",
              "   0.00014131176383292953,\n",
              "   0.00012593249380580943,\n",
              "   0.00011231817482962898,\n",
              "   0.00010023264970939879,\n",
              "   8.947212729459155e-05]},\n",
              " {'OMEGA': 1.7500000000000007,\n",
              "  'ITERATIONS': 30,\n",
              "  'ERRORS': [1.0,\n",
              "   0.14410590181034388,\n",
              "   0.0699006186951471,\n",
              "   0.037194786402215366,\n",
              "   0.021227738462869353,\n",
              "   0.012877253826569976,\n",
              "   0.008259703962702388,\n",
              "   0.005575235251486698,\n",
              "   0.003938785854625939,\n",
              "   0.002894438154944912,\n",
              "   0.002198275806751987,\n",
              "   0.0017151632565604706,\n",
              "   0.0013675999053723452,\n",
              "   0.0011095934682459209,\n",
              "   0.0009128880223869772,\n",
              "   0.000759524859021151,\n",
              "   0.000637707205699231,\n",
              "   0.0005394382161955166,\n",
              "   0.0004591374506331174,\n",
              "   0.00039280660102565155,\n",
              "   0.0003375130855124633,\n",
              "   0.00029106107416859825,\n",
              "   0.0002517762427091717,\n",
              "   0.0002183614711070275,\n",
              "   0.00018979776090812013,\n",
              "   0.00016527470720284734,\n",
              "   0.00014414074466303508,\n",
              "   0.00012586690710578985,\n",
              "   0.00011002001210354704,\n",
              "   9.62425363931385e-05]},\n",
              " {'OMEGA': 1.8000000000000007,\n",
              "  'ITERATIONS': 28,\n",
              "  'ERRORS': [1.0,\n",
              "   0.14454267995131556,\n",
              "   0.0780313105612896,\n",
              "   0.045146306990981586,\n",
              "   0.027440462356055687,\n",
              "   0.017368885001686662,\n",
              "   0.011396621472164198,\n",
              "   0.007730364675071719,\n",
              "   0.005408717653960033,\n",
              "   0.003894065046649187,\n",
              "   0.00287711627313058,\n",
              "   0.0021751587617951096,\n",
              "   0.0016776687303047427,\n",
              "   0.001316284864142247,\n",
              "   0.0010477697766409196,\n",
              "   0.0008441607634018248,\n",
              "   0.0006869813061766533,\n",
              "   0.0005637401526626439,\n",
              "   0.0004658081902735163,\n",
              "   0.00038709322447494046,\n",
              "   0.0003232050726681719,\n",
              "   0.0002709193055145318,\n",
              "   0.0002278248448579722,\n",
              "   0.00019208955074040106,\n",
              "   0.0001623011667910275,\n",
              "   0.0001373571824507643,\n",
              "   0.00011638727321992242,\n",
              "   9.869766791897773e-05]},\n",
              " {'OMEGA': 1.8500000000000008,\n",
              "  'ITERATIONS': 30,\n",
              "  'ERRORS': [1.0,\n",
              "   0.14117468675554656,\n",
              "   0.08564380400544191,\n",
              "   0.054628624864393155,\n",
              "   0.03606261760223793,\n",
              "   0.02444976653098572,\n",
              "   0.016948075354416777,\n",
              "   0.011981267368502755,\n",
              "   0.008625556568501965,\n",
              "   0.006315177902586844,\n",
              "   0.004697529939461911,\n",
              "   0.0035465662260235962,\n",
              "   0.0027150133156478226,\n",
              "   0.002105235063593773,\n",
              "   0.001651676990392946,\n",
              "   0.0013095951351371885,\n",
              "   0.0010481887481206967,\n",
              "   0.0008459255320420608,\n",
              "   0.0006875989177716936,\n",
              "   0.0005623369523809105,\n",
              "   0.00046226646405473303,\n",
              "   0.00038162528095687855,\n",
              "   0.00031614183196870474,\n",
              "   0.00026260930218034945,\n",
              "   0.00021859242962303863,\n",
              "   0.00018221993114197373,\n",
              "   0.00015203760016508378,\n",
              "   0.00012690371803004928,\n",
              "   0.0001059131858167844,\n",
              "   8.834197145968365e-05]},\n",
              " {'OMEGA': 1.9000000000000008,\n",
              "  'ITERATIONS': 44,\n",
              "  'ERRORS': [1.0,\n",
              "   0.13177391104723665,\n",
              "   0.09096422153461473,\n",
              "   0.06495213691829282,\n",
              "   0.04749324892839255,\n",
              "   0.03538485031530965,\n",
              "   0.026764558404267603,\n",
              "   0.020509854544707423,\n",
              "   0.015901983247150787,\n",
              "   0.012456000588009481,\n",
              "   0.009850740989358215,\n",
              "   0.007860224346460859,\n",
              "   0.0063257867535347,\n",
              "   0.005132458026987634,\n",
              "   0.004197380167745683,\n",
              "   0.003458788268018133,\n",
              "   0.002871162695264294,\n",
              "   0.0024002195192239528,\n",
              "   0.002020049353324192,\n",
              "   0.0017110064162225993,\n",
              "   0.0014579987485846414,\n",
              "   0.0012494399634221075,\n",
              "   0.0010763825887410835,\n",
              "   0.0009318486862262629,\n",
              "   0.0008103787670383204,\n",
              "   0.0007076787483566645,\n",
              "   0.0006203436230911205,\n",
              "   0.0005456587668303954,\n",
              "   0.000481450181814073,\n",
              "   0.0004259662758220033,\n",
              "   0.00037778812678607545,\n",
              "   0.00034113883124048356,\n",
              "   0.00030467128830268626,\n",
              "   0.0002693670783524889,\n",
              "   0.0002426503588938194,\n",
              "   0.0002204437662225886,\n",
              "   0.00019912327861415768,\n",
              "   0.0001802702270097017,\n",
              "   0.00016345114428408729,\n",
              "   0.00014783102556688627,\n",
              "   0.0001336493362469869,\n",
              "   0.00012074846829236425,\n",
              "   0.000108847362449929,\n",
              "   9.800347309806813e-05]},\n",
              " {'OMEGA': 1.9500000000000008,\n",
              "  'ITERATIONS': 68,\n",
              "  'ERRORS': [1.0,\n",
              "   0.11550505039907169,\n",
              "   0.09324782854322601,\n",
              "   0.07672079762781511,\n",
              "   0.06401635606396203,\n",
              "   0.05405886471009211,\n",
              "   0.04609449375847516,\n",
              "   0.039632164615844886,\n",
              "   0.034317157588699916,\n",
              "   0.029877690540672276,\n",
              "   0.026145180687922945,\n",
              "   0.022978826164301917,\n",
              "   0.020279556608256744,\n",
              "   0.01796282614194816,\n",
              "   0.01596807246638584,\n",
              "   0.014242157571763845,\n",
              "   0.012743980348689225,\n",
              "   0.011439699336116355,\n",
              "   0.010300724870616904,\n",
              "   0.009304128258426712,\n",
              "   0.00843030784808428,\n",
              "   0.007662845995271425,\n",
              "   0.006988244025487581,\n",
              "   0.006394902113137571,\n",
              "   0.005872810515380078,\n",
              "   0.005413380957965871,\n",
              "   0.00500902484280795,\n",
              "   0.004652884955611398,\n",
              "   0.0043387545916893444,\n",
              "   0.004060955649044972,\n",
              "   0.0038142542034109443,\n",
              "   0.0038838637777936394,\n",
              "   0.0036956346992723416,\n",
              "   0.0035100425188132702,\n",
              "   0.00331125516451055,\n",
              "   0.003180471717265038,\n",
              "   0.003050305962510704,\n",
              "   0.0029309179887790646,\n",
              "   0.0028209168653729045,\n",
              "   0.0027113290214859126,\n",
              "   0.0026008115937873966,\n",
              "   0.002495060707274054,\n",
              "   0.0023890947029874673,\n",
              "   0.0022828481846392233,\n",
              "   0.0021801120004592924,\n",
              "   0.002079626915647383,\n",
              "   0.0019810239498380447,\n",
              "   0.0018858609987421808,\n",
              "   0.0017939049834586607,\n",
              "   0.0017044897804668771,\n",
              "   0.001618087209016323,\n",
              "   0.001535683867863527,\n",
              "   0.0014564616652318616,\n",
              "   0.0013802335153076332,\n",
              "   0.001307360517074992,\n",
              "   0.0012378668589334886,\n",
              "   0.0011710958902946755,\n",
              "   0.0011069084056341302,\n",
              "   0.0010452601527497463,\n",
              "   0.000986057311459958,\n",
              "   0.0009289921193568277,\n",
              "   0.0008739171581103319,\n",
              "   0.0008208160474475028,\n",
              "   0.006670119292813043,\n",
              "   0.0010862413895565155,\n",
              "   0.00018681240556106424,\n",
              "   0.00010500762738689968,\n",
              "   7.851045643238735e-05]}]"
            ]
          },
          "metadata": {},
          "execution_count": 80
        }
      ],
      "source": [
        "iterations_needed"
      ]
    },
    {
      "cell_type": "code",
      "execution_count": 81,
      "metadata": {
        "id": "JxKI7Wji4QRe",
        "colab": {
          "base_uri": "https://localhost:8080/",
          "height": 447
        },
        "outputId": "e3414fac-54de-482f-e3eb-820b216131f5"
      },
      "outputs": [
        {
          "output_type": "execute_result",
          "data": {
            "text/plain": [
              "<Axes: >"
            ]
          },
          "metadata": {},
          "execution_count": 81
        },
        {
          "output_type": "display_data",
          "data": {
            "text/plain": [
              "<Figure size 640x480 with 2 Axes>"
            ],
            "image/png": "[encoded data removed]"
          },
          "metadata": {}
        }
      ],
      "source": [
        "reshaped = numpy.reshape(_x, (GRID, GRID))\n",
        "sns.heatmap(reshaped)"
      ]
    },
    {
      "cell_type": "markdown",
      "metadata": {
        "id": "E4TqOrSp9Teo"
      },
      "source": [
        "# Parte II"
      ]
    },
    {
      "cell_type": "code",
      "execution_count": 82,
      "metadata": {
        "id": "DkWLzwrV8BSB"
      },
      "outputs": [],
      "source": [
        "CARDINAL_TEMPS_2 = {'NORTH': 40.,'SOUTH': 20., 'EAST': 90., 'WEST': 20.}\n",
        "GRID = 7\n",
        "_b = generate_b(N=GRID, cardinal_temperatures=CARDINAL_TEMPS_2)\n",
        "_A = generate_matrix(N=GRID) # must be an array of arrays nxn"
      ]
    },
    {
      "cell_type": "code",
      "execution_count": 83,
      "metadata": {
        "id": "05Yy0USZ9Ssg"
      },
      "outputs": [],
      "source": [
        "(_x, iterations, errors) = solve_for_x_until(_b, _A, seed = [0]* (GRID**2), until=0.001, omega=_omega)"
      ]
    },
    {
      "cell_type": "code",
      "execution_count": 84,
      "metadata": {
        "id": "KJcY-eXAD22q",
        "colab": {
          "base_uri": "https://localhost:8080/",
          "height": 447
        },
        "outputId": "c9a1c806-cfc0-48ec-823c-f9783dc94257"
      },
      "outputs": [
        {
          "output_type": "execute_result",
          "data": {
            "text/plain": [
              "<Axes: >"
            ]
          },
          "metadata": {},
          "execution_count": 84
        },
        {
          "output_type": "display_data",
          "data": {
            "text/plain": [
              "<Figure size 640x480 with 2 Axes>"
            ],
            "image/png": "[encoded data removed]"
          },
          "metadata": {}
        }
      ],
      "source": [
        "reshaped = numpy.reshape(_x, (GRID, GRID))\n",
        "sns.heatmap(numpy.flip(reshaped.transpose(), axis=0))"
      ]
    },
    {
      "cell_type": "markdown",
      "metadata": {
        "id": "8G10hfunSZPx"
      },
      "source": [
        "# Repetir parte 1 con N=4, N=32 y menor tolerancia"
      ]
    },
    {
      "cell_type": "code",
      "execution_count": 85,
      "metadata": {
        "id": "ic-pSTrTSdPc"
      },
      "outputs": [],
      "source": [
        "CARDINAL_TEMPS_2 = {'NORTH': 1.,'SOUTH': 1., 'EAST': 1., 'WEST': 1.}\n",
        "GRID = 31\n",
        "_b = generate_b(N=GRID, cardinal_temperatures=CARDINAL_TEMPS_2)\n",
        "_A = generate_matrix(N=GRID) # must be an array of arrays nxn"
      ]
    },
    {
      "cell_type": "code",
      "execution_count": 86,
      "metadata": {
        "id": "3Ja-fAlqSdPd"
      },
      "outputs": [],
      "source": [
        "iterations_needed = []\n",
        "for _omega in numpy.arange(1,2,0.05):\n",
        " (_x, iterations, errors) = solve_for_x_until(_b, _A, seed = [0]* (GRID**2), until=0.000000001, omega=_omega)\n",
        " iterations_needed.append({\"OMEGA\": _omega, \"ITERATIONS\":len(iterations), \"ERRORS\": errors})"
      ]
    },
    {
      "cell_type": "code",
      "execution_count": 86,
      "metadata": {
        "id": "BYBsczkVSfiJ"
      },
      "outputs": [],
      "source": []
    }
  ],
  "metadata": {
    "colab": {
      "provenance": []
    },
    "kernelspec": {
      "display_name": "Python 3",
      "name": "python3"
    },
    "language_info": {
      "name": "python"
    }
  },
  "nbformat": 4,
  "nbformat_minor": 0
}